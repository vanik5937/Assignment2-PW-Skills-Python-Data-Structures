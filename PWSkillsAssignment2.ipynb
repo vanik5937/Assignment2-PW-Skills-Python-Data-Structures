{
  "nbformat": 4,
  "nbformat_minor": 0,
  "metadata": {
    "colab": {
      "provenance": []
    },
    "kernelspec": {
      "name": "python3",
      "display_name": "Python 3"
    },
    "language_info": {
      "name": "python"
    }
  },
  "cells": [
    {
      "cell_type": "markdown",
      "source": [
        "**1. Discuss string slicing and provide examples.**\n",
        "\n",
        "It is a way to access a part of a string. It allows us to obtain a substring by specifying a range of indices.\n",
        "Its syntax is written as follows:\n",
        "string[start:stop:step]\n",
        "Start is the starting index of  the slice\n",
        "Stop is ending index of the slice (exclusive)\n",
        "Step value determines the stride between each index.\n",
        "eg.\n",
        "s= \"ajay bijay\"\n",
        "substring = [0:5:2] # substring will be \"aa \""
      ],
      "metadata": {
        "id": "ATjOK3BHyh7N"
      }
    },
    {
      "cell_type": "markdown",
      "source": [
        "**2. Explain the key features of lists in Python.**\n",
        "\n",
        "Following are its key features:\n",
        "i. Ordered Collection: Lists maintain the order of elements as they are added. This means that elements can be accessed by their index positions.\n",
        "ii. Mutable: It is mutable, meaning their contents can be changed after creation. Elements can be added, removed, or modified.\n",
        "iii.Indexing and Slicing: It supports indexing and slicing to access some parts of the list.\n",
        "iv. Builtin methods: Following are its builtin methods:\n",
        "a. append()\n",
        "b. insert()\n",
        "c. remove()\n",
        "d. pop()\n",
        "e. clear(), etc\n",
        "v. Nested Lists: It can contain lists inside list."
      ],
      "metadata": {
        "id": "lxwdTeLm0lip"
      }
    },
    {
      "cell_type": "markdown",
      "source": [
        "**3. Describe how to access, modify, and delete elements in a list with examples.**\n",
        "list = [10,20,\"ram\",40]\n",
        "i. Access: print(list[0]) # 10\n",
        "ii. Modify: list[0] = 90\n",
        "            list[2] = \"Shyam\"\n",
        "            print(list) # [90, 20, 'Shyam', 40]\n",
        "iii. Delete: del list[3] # [10, 20, 'Shyam']"
      ],
      "metadata": {
        "id": "rFmwtgHd2RJv"
      }
    },
    {
      "cell_type": "markdown",
      "source": [
        "**4. Compare and contrast tuples and lists with examples.**\n",
        "\n",
        "Lists are mutable whereas Tuples are immutable\n",
        "list = [1,2,3,4]\n",
        "tuple = (1,2,3,4)\n",
        "Lists are defined using square brackets whereas Tuples are defined using parentheses.\n",
        "Lists are slightly slower than tuples due to mutability whereas Tuples are faster than list due to their immutability"
      ],
      "metadata": {
        "id": "G-j12wW33v3U"
      }
    },
    {
      "cell_type": "markdown",
      "source": [
        "**5. Describe the key features of sets and provide examples of their use.**\n",
        "\n",
        "Following are its key features:\n",
        "i. Unordered Collections: Sets do not maintain any order of elements.\n",
        "ii. Unique Elements: Each element in a set must is unique.\n",
        "iii. Mutable: Sets are mutable\n",
        "iv. No Indexing or Slicing: Sets are unordered. .'., they do not support indexing or slicing.\n",
        "eg.\n",
        "set1 = {1,2,3,4}\n",
        "print(set1) #{1,2,3,4}\n",
        "set2 = {1,2,2,3,3,4,5}\n",
        "print(set2) #{1,2,3,4}"
      ],
      "metadata": {
        "id": "m35UCWbS67-2"
      }
    },
    {
      "cell_type": "markdown",
      "source": [
        "**6. Discuss the use cases of tuples and sets in Python programming**\n",
        "\n",
        "Tuples are best used when:\n",
        "i. The collection of items should not change.\n",
        "ii.We need a fixed, ordered sequence of elements.\n",
        "iii. We need to return multiple values from a function.\n",
        "\n",
        "Sets are best used when:\n",
        "i. We need to remove rendundant elements.\n",
        "ii.We need to perform mathematical set operations.\n",
        "iii.We need to keep track of a dynamic collection of unique items."
      ],
      "metadata": {
        "id": "k9Cy_SUG83M3"
      }
    },
    {
      "cell_type": "markdown",
      "source": [
        "**7.Describe how to add, modify, and delete items in a dictionary with examples.**\n",
        "dict = {}\n",
        "i. Add: dict[1] = 2\n",
        "        dict[2] = 3\n",
        "        dict[3] = 4\n",
        "        #{1:2, 2:3, 3:4}\n",
        "ii. Modify: dict[1] = 5\n",
        "        #{1:5, 2:3, 3:4}\n",
        "iii. Delete:  del dict[1]\n",
        "        #{2:3, 3:4}\n",
        "    dict.pop(2)\n",
        "        #{3:4}\n",
        "    dict.clear()\n",
        "        #{}"
      ],
      "metadata": {
        "id": "_Csy4XIV-QnZ"
      }
    },
    {
      "cell_type": "markdown",
      "source": [
        "**8. Discuss the importance of dictionary keys being immutable and provide examples.**\n",
        "\n",
        "i. Hashability: Hashable objects have a hash value that does not change during their lifetime. This hash value is used to quickly compare dictionary keys during lookups.\n",
        "ii.Efficiency: Immutable objects ensure that the key's hash value remains constant, allowing Python to optimize dictionary operations like inserts, deletes, and lookups.\n",
        "This optimization leads to efficient time complexity for these operations, typically O(1), meaning the operation takes constant time regardless of the dictionary size.\n",
        "iii. Consistency: Immutability guarantees that once a key is added to a dictionary, it will always refer to the same value until explicitly removed.\n",
        "eg:\n",
        "my_dict = {1: 'one', 2: 'two'}\n",
        "# This will raise an Error\n",
        "my_dict = {[1, 2, 3]: 'list'}"
      ],
      "metadata": {
        "id": "B5wD7An0AUmU"
      }
    }
  ]
}